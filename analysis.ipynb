{
 "cells": [
  {
   "cell_type": "code",
   "execution_count": 83,
   "metadata": {},
   "outputs": [],
   "source": [
    "import numpy as np\n",
    "import pandas as pd\n",
    "import matplotlib.pyplot as plt\n",
    "\n",
    "from sklearn.manifold import TSNE\n",
    "from sklearn.cluster import Birch, SpectralClustering\n",
    "\n",
    "import util"
   ]
  },
  {
   "cell_type": "markdown",
   "metadata": {},
   "source": [
    "## Power and Agency for Characters by Gender\n",
    "\n",
    "We obtain power and agency by analyzing the verbs used by every character. Refer to [1] for more information."
   ]
  },
  {
   "cell_type": "code",
   "execution_count": 3,
   "metadata": {},
   "outputs": [],
   "source": [
    "# Load gender map and power and agency for characters\n",
    "char_gender_map = util.read_in_character_metadata('data/cdmn_mds/movie_characters_metadata.txt')\n",
    "pa_df = pd.read_csv('vmaps/pa_from_vmaps.csv', index_col=0)\n",
    "pa_df['gender'] = pa_df.index.map(lambda x: char_gender_map[x])\n",
    "\n",
    "# Drop unknown genders\n",
    "pa_df = pa_df[pa_df['gender'] != '?']"
   ]
  },
  {
   "cell_type": "code",
   "execution_count": 4,
   "metadata": {},
   "outputs": [
    {
     "data": {
      "text/html": [
       "<div>\n",
       "<style scoped>\n",
       "    .dataframe tbody tr th:only-of-type {\n",
       "        vertical-align: middle;\n",
       "    }\n",
       "\n",
       "    .dataframe tbody tr th {\n",
       "        vertical-align: top;\n",
       "    }\n",
       "\n",
       "    .dataframe thead th {\n",
       "        text-align: right;\n",
       "    }\n",
       "</style>\n",
       "<table border=\"1\" class=\"dataframe\">\n",
       "  <thead>\n",
       "    <tr style=\"text-align: right;\">\n",
       "      <th></th>\n",
       "      <th>gender</th>\n",
       "      <th>agency</th>\n",
       "      <th>power</th>\n",
       "      <th>verb_count</th>\n",
       "      <th>av</th>\n",
       "      <th>pv</th>\n",
       "    </tr>\n",
       "  </thead>\n",
       "  <tbody>\n",
       "    <tr>\n",
       "      <th>0</th>\n",
       "      <td>f</td>\n",
       "      <td>9.982143</td>\n",
       "      <td>13.454082</td>\n",
       "      <td>31.988520</td>\n",
       "      <td>0.266105</td>\n",
       "      <td>0.395732</td>\n",
       "    </tr>\n",
       "    <tr>\n",
       "      <th>1</th>\n",
       "      <td>m</td>\n",
       "      <td>14.229115</td>\n",
       "      <td>17.635749</td>\n",
       "      <td>38.716216</td>\n",
       "      <td>0.314827</td>\n",
       "      <td>0.433059</td>\n",
       "    </tr>\n",
       "  </tbody>\n",
       "</table>\n",
       "</div>"
      ],
      "text/plain": [
       "  gender     agency      power  verb_count        av        pv\n",
       "0      f   9.982143  13.454082   31.988520  0.266105  0.395732\n",
       "1      m  14.229115  17.635749   38.716216  0.314827  0.433059"
      ]
     },
     "execution_count": 4,
     "metadata": {},
     "output_type": "execute_result"
    }
   ],
   "source": [
    "pa_df[pa_df['verb_count'] > np.median(pa_df['verb_count'])].groupby('gender').mean().reset_index()"
   ]
  },
  {
   "cell_type": "code",
   "execution_count": 5,
   "metadata": {},
   "outputs": [
    {
     "data": {
      "text/html": [
       "<div>\n",
       "<style scoped>\n",
       "    .dataframe tbody tr th:only-of-type {\n",
       "        vertical-align: middle;\n",
       "    }\n",
       "\n",
       "    .dataframe tbody tr th {\n",
       "        vertical-align: top;\n",
       "    }\n",
       "\n",
       "    .dataframe thead th {\n",
       "        text-align: right;\n",
       "    }\n",
       "</style>\n",
       "<table border=\"1\" class=\"dataframe\">\n",
       "  <thead>\n",
       "    <tr style=\"text-align: right;\">\n",
       "      <th></th>\n",
       "      <th>gender</th>\n",
       "      <th>agency</th>\n",
       "      <th>power</th>\n",
       "      <th>verb_count</th>\n",
       "      <th>av</th>\n",
       "      <th>pv</th>\n",
       "    </tr>\n",
       "  </thead>\n",
       "  <tbody>\n",
       "    <tr>\n",
       "      <th>0</th>\n",
       "      <td>f</td>\n",
       "      <td>15.253070</td>\n",
       "      <td>15.747624</td>\n",
       "      <td>31.031910</td>\n",
       "      <td>0.315236</td>\n",
       "      <td>0.231065</td>\n",
       "    </tr>\n",
       "    <tr>\n",
       "      <th>1</th>\n",
       "      <td>m</td>\n",
       "      <td>22.701093</td>\n",
       "      <td>22.842571</td>\n",
       "      <td>43.284134</td>\n",
       "      <td>0.309832</td>\n",
       "      <td>0.232756</td>\n",
       "    </tr>\n",
       "  </tbody>\n",
       "</table>\n",
       "</div>"
      ],
      "text/plain": [
       "  gender     agency      power  verb_count        av        pv\n",
       "0      f  15.253070  15.747624   31.031910  0.315236  0.231065\n",
       "1      m  22.701093  22.842571   43.284134  0.309832  0.232756"
      ]
     },
     "execution_count": 5,
     "metadata": {},
     "output_type": "execute_result"
    }
   ],
   "source": [
    "pa_df[pa_df['verb_count'] > np.median(pa_df['verb_count'])].groupby('gender').std().reset_index()"
   ]
  },
  {
   "cell_type": "code",
   "execution_count": 6,
   "metadata": {},
   "outputs": [
    {
     "data": {
      "text/plain": [
       "array([<matplotlib.axes._subplots.AxesSubplot object at 0x133546ac8>,\n",
       "       <matplotlib.axes._subplots.AxesSubplot object at 0x13353fbe0>],\n",
       "      dtype=object)"
      ]
     },
     "execution_count": 6,
     "metadata": {},
     "output_type": "execute_result"
    },
    {
     "data": {
      "image/png": "[encoded data removed]",
      "text/plain": [
       "<Figure size 432x288 with 2 Axes>"
      ]
     },
     "metadata": {},
     "output_type": "display_data"
    }
   ],
   "source": [
    "pa_df.boxplot(column=['av', 'pv'], by='gender')"
   ]
  },
  {
   "cell_type": "code",
   "execution_count": 7,
   "metadata": {},
   "outputs": [
    {
     "data": {
      "text/plain": [
       "array([<matplotlib.axes._subplots.AxesSubplot object at 0x133529b38>,\n",
       "       <matplotlib.axes._subplots.AxesSubplot object at 0x131f7dac8>],\n",
       "      dtype=object)"
      ]
     },
     "execution_count": 7,
     "metadata": {},
     "output_type": "execute_result"
    },
    {
     "data": {
      "image/png": "[encoded data removed]",
      "text/plain": [
       "<Figure size 432x288 with 2 Axes>"
      ]
     },
     "metadata": {},
     "output_type": "display_data"
    }
   ],
   "source": [
    "pa_df[pa_df['verb_count'] > np.percentile(pa_df['verb_count'], 90)].boxplot(column=['av', 'pv'], by='gender')"
   ]
  },
  {
   "cell_type": "markdown",
   "metadata": {},
   "source": [
    "This clearly matches the findings of [1], where female characters tend to have lesser power and agency than their male counterparts."
   ]
  },
  {
   "cell_type": "markdown",
   "metadata": {},
   "source": [
    "## Analyzing Male-Female Character Relationships\n",
    "Using the model provided by [2], we obtain a set of descriptors for each relationship span (a span may be seen as a small unit of time in the relationship). We obtain a set of probabilities for each of these descriptors for each relationship, and then analyze the relationships between characters with different genders, level of power/agency, etc. to see what kinds of descriptors are more common in such relationships. In order to explore how the power and agency of female characters manifest in the kinds of relationships they are a part of in films, we focus on relationships between one female and one male character."
   ]
  },
  {
   "cell_type": "code",
   "execution_count": 248,
   "metadata": {},
   "outputs": [],
   "source": [
    "# Get set of words closest (embedding cosine similarity) to descriptor\n",
    "with open('rmn/models/descriptors.log', 'r') as f:\n",
    "    desc = list(map(lambda x: x.split(' '), f.read().split('\\n')))"
   ]
  },
  {
   "cell_type": "code",
   "execution_count": 249,
   "metadata": {},
   "outputs": [],
   "source": [
    "# Get relationship descriptor probabilities\n",
    "p, a = util.get_pa_maps('vmaps/pa_from_vmaps.csv')\n",
    "traj, num_desc = util.sl_df_from_traj('rmn/models/trajectories.log', p, a)\n",
    "\n",
    "# Get character gender info\n",
    "traj['g1'] = traj['Char 1'].map(lambda x: char_gender_map[x])\n",
    "traj['g2'] = traj['Char 2'].map(lambda x: char_gender_map[x])"
   ]
  },
  {
   "cell_type": "code",
   "execution_count": 250,
   "metadata": {},
   "outputs": [],
   "source": [
    "# Obtain relationships with only m-f diads (no f-f, m-m)\n",
    "traj_mf = traj[((traj['g1'] == 'm') & (traj['g2'] == 'f'))|((traj['g1'] == 'f') & (traj['g2'] == 'm'))].copy()"
   ]
  },
  {
   "cell_type": "markdown",
   "metadata": {},
   "source": [
    "### Power and Agency Difference for Most Likely Descriptors\n",
    "We obtain the most likely descriptor for each m-f relationship. For each descriptor, we check the mean values of the following quantities to see if any kind of relationship between two characters has any significant differences in power and agency between them.\n",
    "$$\n",
    "p_{female} - p_{male}, a_{female} - a_{male}\n",
    "$$\n",
    "If these values are positive, the female character has more power/agency."
   ]
  },
  {
   "cell_type": "code",
   "execution_count": 251,
   "metadata": {},
   "outputs": [],
   "source": [
    "# Get p/a difference\n",
    "traj_mf['pdiff'] = traj_mf['p1'] - traj_mf['p2']\n",
    "traj_mf['adiff'] = traj_mf['a1'] - traj_mf['a2']\n",
    "\n",
    "# Fix difference order\n",
    "traj_mf.loc[:, 'pdiff'] = np.where(traj_mf['g1'] == 'm', traj_mf['pdiff'] * -1, traj_mf['pdiff'])\n",
    "traj_mf.loc[:, 'adiff'] = np.where(traj_mf['g1'] == 'm', traj_mf['adiff'] * -1, traj_mf['adiff'])"
   ]
  },
  {
   "cell_type": "code",
   "execution_count": 252,
   "metadata": {},
   "outputs": [],
   "source": [
    "# Get most likely descriptors for each relationship\n",
    "traj_x = traj_mf[['Topic {}'.format(x) for x in range(num_desc)]].values\n",
    "traj_mf['mld'] = np.argmax(traj_x, axis=1)"
   ]
  },
  {
   "cell_type": "code",
   "execution_count": 253,
   "metadata": {},
   "outputs": [
    {
     "data": {
      "image/png": "[encoded data removed]",
      "text/plain": [
       "<Figure size 432x288 with 1 Axes>"
      ]
     },
     "metadata": {},
     "output_type": "display_data"
    }
   ],
   "source": [
    "# For each most likely descriptor, we find the average power and agency\n",
    "mld_pa_mean = traj_mf[['pdiff', 'adiff', 'mld']].groupby('mld').mean()\n",
    "\n",
    "# Find outlying data clusters\n",
    "cluster = Birch(threshold=0.05).fit(mld_pa_mean[['pdiff', 'adiff']])\n",
    "colors = np.array(['red', 'blue', 'green'])\n",
    "ax = mld_pa_mean.plot.scatter('pdiff', 'adiff', c=colors[cluster.labels_])\n",
    "xlim = np.max(np.abs(mld_pa_mean['pdiff']))\n",
    "ylim = np.max(np.abs(mld_pa_mean['adiff']))\n",
    "xlim, ylim = xlim * 1.1, ylim * 1.1\n",
    "ax.set_xlim([-xlim, xlim])\n",
    "ax.set_ylim([-ylim, ylim])\n",
    "\n",
    "# Annotate with descriptor ID\n",
    "for d in mld_pa_mean.index:\n",
    "    ax.annotate(d, (mld_pa_mean.loc[d, 'pdiff'], mld_pa_mean.loc[d, 'adiff']))"
   ]
  },
  {
   "cell_type": "code",
   "execution_count": 254,
   "metadata": {
    "scrolled": true
   },
   "outputs": [
    {
     "name": "stdout",
     "output_type": "stream",
     "text": [
      "4 ['shit', 'fuckin', 'faggots', 'kill', 'niggers', 'fucken', 'niggas', 'shits', 'fucker', 'motherfucker', 'motherfuckers', 'hate', 'fuck', 'bastards', 'nigga']\n",
      "18 ['blaming', 'disgraceful', 'dishonest', 'hurting', 'apologizing', 'irresponsible', 'bitching', 'whining', 'griping', 'idiotic', 'disrespectful', 'senseless', 'insulting', 'misinformed', 'shameful']\n",
      "19 ['thirty', 'ninety', 'twenty', 'hours', 'sixty', 'forty', 'hour', 'minutes', 'seconds', 'eighty', 'minute', 'elapsed', 'fifty', 'hundred', 'seventy']\n"
     ]
    }
   ],
   "source": [
    "# Here, females have more power/agency than males\n",
    "# NOTE: May have to change indices if the descriptor.log changes\n",
    "print(4, desc[4])\n",
    "print(18, desc[18])\n",
    "print(19, desc[19])"
   ]
  },
  {
   "cell_type": "code",
   "execution_count": 255,
   "metadata": {},
   "outputs": [
    {
     "name": "stdout",
     "output_type": "stream",
     "text": [
      "9 ['fbi', 'police', 'arrests', 'deputies', 'gunmen', 'accused', 'informants', 'embassy', 'bureau', 'telephone', 'detectives', 'impersonating', 'switchboard', 'consulate', 'eavesdropping']\n",
      "14 ['grasp', 'help', 'give', 'hesitate', 'manipulate', 'intuition', 'grab', 'ability', 'instruct', 'let', 'sharpen', 'attach', 'helps', 'visualize', 'learn']\n",
      "16 ['uhh', 'ouch', 'uhhh', 'jawohl', 'ahhhh', 'ummmm', 'ahh', 'duh', 'ahhh', 'ummm', 'ahhhhhh', 'uhuh', 'nope', 'nah', 'whoa']\n"
     ]
    }
   ],
   "source": [
    "# Here, males have more power/agency than females\n",
    "# NOTE: May have to change indices if the descriptor.log changes\n",
    "print(9, desc[9])\n",
    "print(14, desc[14])\n",
    "print(16, desc[16])"
   ]
  },
  {
   "cell_type": "markdown",
   "metadata": {},
   "source": [
    "Interestingly, descriptor 14 reflects a work-place-like relationship. This shows that films reinforce the already existing gender biases in a work enviroment. Words most cosine similar to descriptor 4 are ones relating to food; this shows that in such relationships, the female character has more power than the male, but not necessarily higher agency. Words similar to descriptor 19 suggests that relationships where the female character has significantly more power than the male character are somewhat negative."
   ]
  },
  {
   "cell_type": "markdown",
   "metadata": {},
   "source": [
    "### Descriptors Distributions and Power and Agency\n",
    "Relationships are not one-dimensional. Though the most likely descriptor may be used to gather some information about them, the distribution of the probabilities for each descriptor in a relationship is more appropriate to characterize the relationship. As such, we now consider the probability distributions of the $d$ most likely descriptors. We look at the m-f relationships under consideration, and try to see if the effect of power and agency differentials on relationships has any relation with the distribution of these descriptors.\n",
    "\n",
    "To cluster these relationships, we find the set of descriptors which are more likely than a random assignment, that is, $S_R=\\{D_i: p(D_i) > \\frac{1}{n_{desc}}\\}$. We find the marginal distributions of these descriptors for a relationship, and set all the other descriptor probabilities for the relationship to 0. If imagined in a metric space, this would have the effect of pushing non-similar relationships further, and similar relationships closer."
   ]
  },
  {
   "cell_type": "code",
   "execution_count": 256,
   "metadata": {},
   "outputs": [],
   "source": [
    "traj_norm = traj_x.copy()\n",
    "n, d = traj_norm.shape\n",
    "D = 3\n",
    "for i in range(n):\n",
    "    rd = traj_norm[i, :]\n",
    "    # Find d-D least likely descriptors and set their probabilities to 0\n",
    "    lld_set = rd.argsort()[:d-D][::-1]\n",
    "    rd[lld_set] = 0\n",
    "# Normalize\n",
    "# traj_norm[np.where(traj_norm < 1/num_desc)] = 0\n",
    "traj_norm = traj_norm/np.sum(traj_norm, axis=1)[:, None]"
   ]
  },
  {
   "cell_type": "code",
   "execution_count": 257,
   "metadata": {},
   "outputs": [],
   "source": [
    "# Cluster into 5 [or an appropriate number depending on D and the resultant embedding] spectral clusters\n",
    "cluster = SpectralClustering(n_clusters=20).fit(traj_norm)\n",
    "traj_mf['cluster'] = cluster.labels_"
   ]
  },
  {
   "cell_type": "code",
   "execution_count": 258,
   "metadata": {},
   "outputs": [
    {
     "data": {
      "image/png": "[encoded data removed]",
      "text/plain": [
       "<Figure size 432x288 with 1 Axes>"
      ]
     },
     "metadata": {},
     "output_type": "display_data"
    }
   ],
   "source": [
    "# For each descriptor cluster, we find the average power and agency\n",
    "cl_pa_mean = traj_mf[['pdiff', 'adiff', 'cluster']].groupby('cluster').mean().reset_index()\n",
    "\n",
    "# Find outlying data clusters\n",
    "cluster = Birch(threshold=0.025).fit(cl_pa_mean[['pdiff', 'adiff']])\n",
    "colors = np.array(['red', 'blue', 'green'])\n",
    "ax = cl_pa_mean.plot.scatter('pdiff', 'adiff', c=colors[cluster.labels_])\n",
    "xlim = np.max(np.abs(cl_pa_mean['pdiff']))\n",
    "ylim = np.max(np.abs(cl_pa_mean['adiff']))\n",
    "xlim, ylim = xlim * 1.1, ylim * 1.1\n",
    "ax.set_xlim([-xlim, xlim])\n",
    "ax.set_ylim([-ylim, ylim])\n",
    "\n",
    "# Annotate with descriptor ID\n",
    "for d in cl_pa_mean.index:\n",
    "    ax.annotate(d, (cl_pa_mean.loc[d, 'pdiff'], cl_pa_mean.loc[d, 'adiff']))"
   ]
  },
  {
   "cell_type": "code",
   "execution_count": 260,
   "metadata": {
    "scrolled": true
   },
   "outputs": [
    {
     "name": "stdout",
     "output_type": "stream",
     "text": [
      "[ 1 17  0] 9\n"
     ]
    }
   ],
   "source": [
    "c = 11\n",
    "print(np.sum(traj_norm[traj_mf['cluster'] == c], axis=0).argsort()[-3:][::-1], len(traj_norm[traj_mf['cluster'] == c]))"
   ]
  },
  {
   "cell_type": "code",
   "execution_count": 262,
   "metadata": {
    "scrolled": true
   },
   "outputs": [
    {
     "name": "stdout",
     "output_type": "stream",
     "text": [
      "[14 12 15] 25\n"
     ]
    }
   ],
   "source": [
    "c = 15\n",
    "print(np.sum(traj_norm[traj_mf['cluster'] == c], axis=0).argsort()[-3:][::-1], len(traj_norm[traj_mf['cluster'] == c]))"
   ]
  },
  {
   "cell_type": "code",
   "execution_count": null,
   "metadata": {},
   "outputs": [],
   "source": []
  },
  {
   "cell_type": "code",
   "execution_count": null,
   "metadata": {},
   "outputs": [],
   "source": []
  },
  {
   "cell_type": "code",
   "execution_count": null,
   "metadata": {},
   "outputs": [],
   "source": []
  },
  {
   "cell_type": "markdown",
   "metadata": {},
   "source": [
    "### References\n",
    "[1] Maarten Sap, Marcella Cindy Prasetio, Ariel Holtzman, Hannah Rashkin & Yejin Choi (2017). Connotation Frames of Power and Agency in Modern Films. EMNLP\n",
    "\n",
    "[2] Iyyer, M., Guha, A., Chaturvedi, S., Boyd-Graber, J., & Daumé III, H. (2016, June). Feuding families and former friends: Unsupervised learning for dynamic fictional relationships. In Proceedings of the 2016 Conference of the North American Chapter of the Association for Computational Linguistics: Human Language Technologies (pp. 1534-1544)."
   ]
  },
  {
   "cell_type": "code",
   "execution_count": null,
   "metadata": {},
   "outputs": [],
   "source": []
  }
 ],
 "metadata": {
  "@webio": {
   "lastCommId": null,
   "lastKernelId": null
  },
  "kernelspec": {
   "display_name": "Python 3",
   "language": "python",
   "name": "python3"
  },
  "language_info": {
   "codemirror_mode": {
    "name": "ipython",
    "version": 3
   },
   "file_extension": ".py",
   "mimetype": "text/x-python",
   "name": "python",
   "nbconvert_exporter": "python",
   "pygments_lexer": "ipython3",
   "version": "3.6.4"
  }
 },
 "nbformat": 4,
 "nbformat_minor": 2
}
